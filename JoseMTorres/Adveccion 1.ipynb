{
 "cells": [
  {
   "cell_type": "markdown",
   "metadata": {},
   "source": [
    "# Solucion de la ecuacion de adveccion"
   ]
  },
  {
   "cell_type": "markdown",
   "metadata": {},
   "source": [
    "La ecuación de advección es el caso de partida para el estudio de ecuaciones en derivadas parciales hiperbólicas."
   ]
  },
  {
   "cell_type": "code",
   "execution_count": 1,
   "metadata": {
    "collapsed": true
   },
   "outputs": [],
   "source": [
    "# Autor: Jose M Torres\n",
    "# Adveccion\n",
    "\n",
    "# Este programa resuelve la ecuacion de adveccion en una dimension\n",
    "# usando un metodo de diferencias finitas\n",
    "\n",
    "# El dato inicial es un pulso gaussiano\n",
    "\n",
    "# El resultado es un archivo a dos columnas donde se guardan las posiciones en la malla \n",
    "# y el valor correspondiente de la función de onda a intervalos regulares de tiempo.\n",
    "# Cada instante de salida esta separado por dos saltos de linea.\n",
    "\n",
    "import numpy as np\n",
    "import math"
   ]
  },
  {
   "cell_type": "code",
   "execution_count": 2,
   "metadata": {
    "collapsed": true
   },
   "outputs": [],
   "source": [
    "# Parametros\n",
    "\n",
    "N = 2000          # Numero de puntos de la malla\n",
    "dx = 0.05         # Intervalo espacial\n",
    "courant = 0.5     # Parametro de courant dt/dx\n",
    "dt = courant*dx   # Paso de tiempo\n",
    "Nt = 1500         # Total de iteraciones\n",
    "fout = 20         # Frecuencia de salida\n",
    "\n",
    "x0 = 0.5*N*dx     # Localizacion del pulso gaussiano\n",
    "sig= 10.           # Ancho del pulso\n",
    "A = 1.0           # Amplitud del pulso\n",
    "\n",
    "outfile=open('phi_num.xl','w') # Nombre del archivo de salida"
   ]
  },
  {
   "cell_type": "code",
   "execution_count": 3,
   "metadata": {
    "collapsed": true
   },
   "outputs": [],
   "source": [
    "# Definición de arreglos e inicialización\n",
    "x = np.linspace(0,(N-1)*dx,N)        # Posiciones en la malla\n",
    "phi = np.zeros(N)                    # Función de onda\n",
    "phi_p = np.zeros(N)                  # Función de onda en el paso anterior\n",
    "phi_s = np.zeros(N)                  # \"Fuente\" de la ecuación de evolución\n",
    "\n",
    "for i in range(N):\n",
    "    phi[i]=A*math.exp( - ( (x[i]-x0) /sig)**2)\n"
   ]
  },
  {
   "cell_type": "code",
   "execution_count": 4,
   "metadata": {},
   "outputs": [
    {
     "data": {
      "text/plain": [
       "2"
      ]
     },
     "execution_count": 4,
     "metadata": {},
     "output_type": "execute_result"
    }
   ],
   "source": [
    "# Guardar dato inicial en un archivo de dos columnas: x   phi(x)\n",
    "outfile.write('#t=0.0\\n')   # Comentario al estilo gnuplot\n",
    "for i in range(N):\n",
    "    outfile.write(str(x[i])+' '+str(phi[i])+'\\n')\n",
    "outfile.write('\\n\\n')\n"
   ]
  },
  {
   "cell_type": "code",
   "execution_count": 5,
   "metadata": {
    "collapsed": true
   },
   "outputs": [],
   "source": [
    "\n",
    "# Ciclo de evolución\n",
    "for i in range(1,Nt+1):\n",
    "    phi_p[:]=phi       # De este modo se copian los valores de la función de onda\n",
    "\n",
    "    # Ciclo de puntos internos del dominio\n",
    "    for j in range(1,N-1):\n",
    "        phi_s[j] = (-(phi_p[j+1]-phi_p[j-1])*0.5          # Contribución del método de Euler\n",
    "\t\t +0.5*courant*(phi_p[j+1]-2.*phi_p[j]+phi_p[j-1]) # Corrección Lax-Wendroff\n",
    "\t\t )\n",
    "        phi[j] = phi_p[j] + courant*phi_s[j]              # Actualización de los valores de la función de onda\n",
    "    \n",
    "    \n",
    "    # Frontera derecha a primer orden\n",
    "    phi[N-1] = phi_p[N-1] - courant*(phi_p[N-1]-phi_p[N-2]) \n",
    "    \n",
    "    # Guardar datos de salida\n",
    "    if not i%fout :\n",
    "        outfile.write('#t='+str(i*dt)+'\\n')\n",
    "        for j in range(0,N):\n",
    "            outfile.write(str(x[j])+' '+str(phi[j])+'\\n')\n",
    "        outfile.write('\\n\\n')\n"
   ]
  },
  {
   "cell_type": "code",
   "execution_count": 6,
   "metadata": {},
   "outputs": [
    {
     "ename": "SyntaxError",
     "evalue": "Missing parentheses in call to 'print' (<ipython-input-6-1b1843c08b14>, line 2)",
     "output_type": "error",
     "traceback": [
      "\u001b[0;36m  File \u001b[0;32m\"<ipython-input-6-1b1843c08b14>\"\u001b[0;36m, line \u001b[0;32m2\u001b[0m\n\u001b[0;31m    print 'Listo!'\u001b[0m\n\u001b[0m                 ^\u001b[0m\n\u001b[0;31mSyntaxError\u001b[0m\u001b[0;31m:\u001b[0m Missing parentheses in call to 'print'\n"
     ]
    }
   ],
   "source": [
    "outfile.close()\n",
    "print 'Listo!'"
   ]
  },
  {
   "cell_type": "code",
   "execution_count": 7,
   "metadata": {},
   "outputs": [
    {
     "data": {
      "image/png": "[encoded data removed]",
      "text/plain": [
       "<matplotlib.figure.Figure at 0x7f5143d67208>"
      ]
     },
     "metadata": {},
     "output_type": "display_data"
    }
   ],
   "source": [
    "\n",
    "import matplotlib.pyplot as plt\n",
    "import matplotlib.animation as animation\n",
    "\n",
    "plt.style.use('dark_background')\n",
    "\n",
    "fig = plt.figure()\n",
    "fig.set_dpi(100)\n",
    "ax1 = fig.add_subplot(1,1,1)\n",
    "\n",
    "\n",
    "output = np.loadtxt('phi_num.xl')\n",
    "steps = Nt/fout\n",
    "\n",
    "k=0\n",
    "\n",
    "def animate(i):\n",
    "    global k\n",
    "    fx = output[N*k:N*(k+1)-1,1]\n",
    "    x = output[N*k:N*(k+1)-1,0]\n",
    "    k += 1\n",
    "    ax1.clear()\n",
    "    plt.plot(x,fx,color='cyan')\n",
    "    plt.grid(True)\n",
    "    plt.ylim([-1,1])\n",
    "    plt.xlim([0,N*dx])\n",
    "\n",
    "anim = animation.FuncAnimation(fig,animate,frames=360,interval=20)\n",
    "plt.show()\n",
    "\n",
    "\n"
   ]
  },
  {
   "cell_type": "code",
   "execution_count": null,
   "metadata": {
    "collapsed": true
   },
   "outputs": [],
   "source": []
  }
 ],
 "metadata": {
  "kernelspec": {
   "display_name": "Python 2",
   "language": "python",
   "name": "python2"
  },
  "language_info": {
   "codemirror_mode": {
    "name": "ipython",
    "version": 3
   },
   "file_extension": ".py",
   "mimetype": "text/x-python",
   "name": "python",
   "nbconvert_exporter": "python",
   "pygments_lexer": "ipython3",
   "version": "3.6.2"
  }
 },
 "nbformat": 4,
 "nbformat_minor": 2
}

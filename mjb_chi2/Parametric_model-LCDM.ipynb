{
 "cells": [
  {
   "cell_type": "markdown",
   "metadata": {},
   "source": [
    "# CinvesPy \n",
    "## Nov 2017\n",
    "\n",
    "**Mariana Jaber** *mariana.ifunam@gmail.com*"
   ]
  },
  {
   "cell_type": "markdown",
   "metadata": {},
   "source": [
    "# Estimación de parámetros"
   ]
  },
  {
   "cell_type": "markdown",
   "metadata": {},
   "source": [
    "\n",
    "En esta libreta vamos a resolver un problema de optimización numérica. Queremos hallar los valores numéricos para los parámetros de un modelo al ajustarlo con datos observacionales.\n",
    "\n",
    "Los parámetros libres son el valor de la llamada \"constante de Hubble\", $H_0$ y la fracción de materia al día de hoy, $\\Omega_m$.\n",
    "\n",
    "\n",
    "Usaremos datos de lo que se conoce como \"Cronómetros Cósmicos\" y se pueden halla en la referencia arXiv:1604.00183. Ahí se reportan valores para la *función de Hubble*, $H(z)$, a diferentes valores de $z$ con sus respectivos errores $\\Delta H(z)$.\n",
    "\n",
    "\n",
    "\n",
    "-------- · -------- · -------- · -------- · -------- · -------- · -------- · -------- · -------- · -------- · --------\n",
    "\n",
    "Los pasos que seguiremos son: \n",
    "\n",
    "\n",
    "i. Usaremos *np.loadtxt* (ver la Lecture de **Numpy**) para cargar una tabla con los datos observacionales. \n",
    "\n",
    "ii. Con la función  *plt.errorbar* de Matplotlib haremos la gráfica de nuestros puntos observados, para tener una idea de cómo lucen nuestros datos.\n",
    "\n",
    "iii.  Definir una función (ver libreta de **Introducción a Python**) para escribir nuestro *modelo*. \n",
    "\n",
    "iv. Definiremos la función que mide la \"bondad del ajuste\",  $\\chi^2$. Usando el método  *differential_evolution* de *scipy.Optimize* para hallar el mínimo global de nuestra función. El valor de los parámetros que hagan $\\chi^2=min$ serán los \"mejores valores del ajuste\".  \n",
    "\n",
    "v. Usando lo que aprendimos en la charla de  **Multiprocessing** evaluaremos la función $\\chi^2$ en una grid m-dimensional (con m, el número de parámetros describiendo nuestro modelo). \n",
    "\n",
    "vi. Por último, usaremos el formato conocido como *hdf5* para guardar nuestra malla y los valores de $\\chi^2$ en cada punto y con la función *contourf* de Matplotlib  graficaremos los llamados \"contornos de confianza\" a (1, 2, y 3-$\\sigma$).\n"
   ]
  },
  {
   "cell_type": "code",
   "execution_count": null,
   "metadata": {},
   "outputs": [],
   "source": [
    "%pylab inline"
   ]
  },
  {
   "cell_type": "markdown",
   "metadata": {},
   "source": [
    "## Paso 1.  Datos\n",
    "Importamos nuestros puntos observacionales para $H(z)$\n"
   ]
  },
  {
   "cell_type": "code",
   "execution_count": null,
   "metadata": {},
   "outputs": [],
   "source": [
    "dataHz = np.loadtxt('Hz_all.dat')"
   ]
  },
  {
   "cell_type": "code",
   "execution_count": null,
   "metadata": {},
   "outputs": [],
   "source": [
    "dataHz.shape"
   ]
  },
  {
   "cell_type": "code",
   "execution_count": null,
   "metadata": {
    "collapsed": true
   },
   "outputs": [],
   "source": [
    "redshifts = dataHz[:,0]\n",
    "obs = dataHz[:,1]\n",
    "errors = dataHz[:,2]"
   ]
  },
  {
   "cell_type": "markdown",
   "metadata": {},
   "source": [
    "Si deseamos ver cómo lucen nuestros datos, usaremos *errorbar* de **Matplotlib**\n"
   ]
  },
  {
   "cell_type": "code",
   "execution_count": null,
   "metadata": {
    "collapsed": true
   },
   "outputs": [],
   "source": [
    "figsize = (8, 6)                        # definimos el tamaño de nuestra figura\n",
    "dpi = 300                                # dots per inch\n",
    "\n",
    "rcParams['font.size'] = 15               # establecemos el tamaño de la fuente\n",
    "rcParams['lines.linewidth'] = 2          # el grosor de las líneas\n",
    "rcParams['mathtext.fontset'] = 'cm'      # y el tipo de fuente en LaTex \n",
    "\n",
    "fig1 = figure(figsize=figsize, dpi=dpi)  # definimos la figura\n",
    "\n",
    " \n",
    "plt.errorbar(redshifts, obs, errors,      #plt.errorbar(x, y, error_y)\n",
    "             xerr=None, \n",
    "             color='purple', marker='o', ls='None', \n",
    "             elinewidth =2, capsize=5, capthick = 1, \n",
    "             label='$Datos$')\n",
    "\n",
    "\n",
    "plt.legend(loc='best', frameon=False)     #pon la legenda donde mejor quede sin marco\n",
    "\n",
    "xlabel(r'$z$')                            \n",
    "ylabel(r'$H(z) [km/s Mpc^{-1}]$')         \n",
    "\n",
    "\n",
    "#savefig('data_plot.pdf', bbox_inches='tight') #guardar la salida como un archivo pdf, eps, jpg, png"
   ]
  },
  {
   "cell_type": "markdown",
   "metadata": {},
   "source": [
    "## Paso 2. Modelo\n",
    "\n",
    "Comenzamos por definir nuestro modelo.\n",
    "\n",
    "### El Modelo: $\\Lambda$CDM\n",
    "\n",
    "El marco teórico mínimo en cosmología es asumir un Universo geométricamente plano y dominado por una *Constante Cosmológica*, $\\Lambda$ al día de hoy.\n",
    "\n",
    "Esto se parametriza de la siguiente forma:\n",
    "\n",
    "Que el Universo sea plano implica que al día de hoy se cumple  $\\Omega_m + \\Omega_{DE} = 1$\n",
    "\n",
    "Y que el causante de la Aceleración en la expansión sea una Constante Cosmológica, se puede representar con $w=-1$. \n",
    "\n",
    "La condición de \"planitud\" implica $\\Omega_{DE} = 1- \\Omega_m$.\n",
    "\n",
    "Así que tendremos como parámetro libre el valor $\\Omega_m$.\n",
    "\n",
    "Adicionalmente, el valor al día de hoy de la constante de Hubble, $H_0$ quedará como parámetro libre del modelo.\n",
    "\n",
    "\n",
    "La extensión más simple de este modelo sería considerar que el parámetro $w$, sea constante aunque no sea igual a -1, $w=cte\\neq -1$. En esta extensión a nuestro modelito tendríamos 3 parámetros libres: $w$, $\\Omega_m$, y $H_0$.\n",
    "\n",
    "Para los propósitos de esta libreta, usaremos  $\\Lambda$CDM como modelo, *i.e.*, $w=-1$ y tendremos solamente 2 parametros libres.\n",
    "\n",
    "\n",
    "\n",
    "\n",
    "### $H(z) = H_0 \\sqrt{\\Omega_m(1+z)^3+\\Omega_{\\Lambda}}$\n",
    "\n"
   ]
  },
  {
   "cell_type": "code",
   "execution_count": null,
   "metadata": {
    "collapsed": true
   },
   "outputs": [],
   "source": [
    "def hubblefunc(z, w, H0, OmegaM):\n",
    "    '''\n",
    "    This function calculates the theoretical value for the Hubble function,\n",
    "    this is, the expansion rate of the Universe in terms of redshift\n",
    "    \n",
    "    w: Dark Energy Equation of State. w=-1 for a Cosmological Constant\n",
    "    H0: present value of Hubble constant\n",
    "    OmegaM: fractional matter density\n",
    "    \n",
    "    '''\n",
    "    matter_contribution = OmegaM *(1 + z)**3\n",
    "    \n",
    "    DE_contribution = (1 - OmegaM) * (1 + z)**(3 * (1 + w))\n",
    "\n",
    "    Ez = np.sqrt(matter_contribution + DE_contribution)\n",
    "    \n",
    "    return H0*Ez"
   ]
  },
  {
   "cell_type": "markdown",
   "metadata": {},
   "source": [
    "Hemos escrito nuestra función de tal manera que podamos fácilmente añadir el parámetro $w$ para una cosmología diferente a $\\Lambda$CDM"
   ]
  },
  {
   "cell_type": "code",
   "execution_count": null,
   "metadata": {
    "collapsed": true
   },
   "outputs": [],
   "source": [
    "hubblefunc?"
   ]
  },
  {
   "cell_type": "markdown",
   "metadata": {},
   "source": [
    "Si lo deseamos podemos evaluarla para valores particulares de sus parámetros."
   ]
  },
  {
   "cell_type": "code",
   "execution_count": null,
   "metadata": {},
   "outputs": [],
   "source": [
    "H1=hubblefunc(0.2, -1, 70, 0.3)\n",
    "H2=hubblefunc(0.2, -1, 60, 0.3) \n",
    "H3=hubblefunc(0.2, -1, 70, 0.25) \n",
    "H1, H2, H3"
   ]
  },
  {
   "cell_type": "markdown",
   "metadata": {},
   "source": [
    "Ahora podemos ver cómo nuestra función ajusta a los datos.\n",
    "\n"
   ]
  },
  {
   "cell_type": "code",
   "execution_count": null,
   "metadata": {},
   "outputs": [],
   "source": [
    "figsize = (8, 6)                        \n",
    "dpi = 300                                \n",
    "\n",
    "rcParams['font.size'] = 12               \n",
    "rcParams['lines.linewidth'] = 2          \n",
    "rcParams['mathtext.fontset'] = 'cm'      \n",
    "\n",
    "fig = figure(figsize=figsize, dpi=dpi)  \n",
    "\n",
    "#### data ########\n",
    "plt.errorbar(redshifts, obs, errors,      \n",
    "             xerr=None, \n",
    "             color='purple', marker='o', ls='None', \n",
    "             elinewidth =2, capsize=5, capthick = 1, \n",
    "             label='$Datos$')\n",
    "\n",
    "#### model ########\n",
    "zarray = np.linspace(0.01,2.3,300)\n",
    "Hubblefunc = np.vectorize(hubblefunc, excluded=(1, 2, 3))\n",
    "\n",
    "\n",
    "plot(zarray, Hubblefunc(zarray, -1, 65, 0.3), color = 'r',  label=r'$model$: $H_0$=65, $\\Omega_m$=0.3')\n",
    "plot(zarray, Hubblefunc(zarray, -1, 75, 0.3), color = 'b', label=r'$model$:  $H_0$=75, $\\Omega_m$=0.3')\n",
    "plot(zarray, Hubblefunc(zarray, -1, 75, 0.25), color = 'black', label=r'$model$: $H_0$=75, $\\Omega_m$=0.25')\n",
    "plt.title(r'$\\Lambda CDM$: $w=-1$')\n",
    "\n",
    "\n",
    "plt.legend(loc='best', frameon=False)     \n",
    "\n",
    "xlabel(r'$z$')                            \n",
    "ylabel(r'$H(z) [km/s Mpc^{-1}]$')         \n",
    "\n",
    "\n",
    "#savefig('data-model_plot.pdf', bbox_inches='tight') \n"
   ]
  },
  {
   "cell_type": "markdown",
   "metadata": {},
   "source": [
    "## Paso 3. \n",
    "## $\\chi^2$ function\n",
    "\n",
    "Ahora queremos definir la función $\\chi^2$ dado nuestro modelo y los datos que tenemos.\n",
    "\n",
    "\n",
    "Dado que los datos no están correlacionados, escribimos:\n",
    "\n",
    "\n",
    "\n",
    "### $\\chi^2(\\vec{\\theta}) = \\sum_i^{N=26}\\frac{\\left[H(z_i)^{obs} - H(z_i, w=-1, H_0,\\Omega_m)\\right]^2}{\\sigma_i^2}$\n",
    "\n",
    "donde $\\vec{\\theta}$ es el vector de parámetros, $\\vec{\\theta}=\\{H_0, \\Omega_m\\}$"
   ]
  },
  {
   "cell_type": "code",
   "execution_count": null,
   "metadata": {
    "collapsed": true
   },
   "outputs": [],
   "source": [
    "def chi_2(H0, OmegaM):\n",
    "    '''\n",
    "    Chi2 function for our H(z) data and LCDM model\n",
    "    '''\n",
    "    chi_sum=0\n",
    "    w = -1 # we have set this to the LCDM scenario\n",
    "    for (zi, obs, err) in dataHz:\n",
    "        \n",
    "        chi_sum += ((obs - hubblefunc(zi, w, H0, OmegaM) )/ err) ** 2\n",
    "    \n",
    "    return chi_sum"
   ]
  },
  {
   "cell_type": "code",
   "execution_count": null,
   "metadata": {},
   "outputs": [],
   "source": [
    "chi_2(85, 0.25)"
   ]
  },
  {
   "cell_type": "markdown",
   "metadata": {},
   "source": [
    "## Paso 4.\n",
    "### Estimar los parámetros del mejor ajuste \n",
    "\n",
    "Para hallar el mejor valor de $H_0$ y $\\Omega_m$. \n",
    "\n",
    "Para ello, necesitamos hallar el punto, $\\vec{\\theta}_{best}$ en espacio de parámetros tal que $\\chi^2(\\vec{\\theta}_{best})$ sea mínimo. \n",
    "\n",
    "\n",
    "\n",
    "\n"
   ]
  },
  {
   "cell_type": "code",
   "execution_count": null,
   "metadata": {
    "collapsed": true
   },
   "outputs": [],
   "source": [
    "from scipy.optimize import differential_evolution"
   ]
  },
  {
   "cell_type": "code",
   "execution_count": null,
   "metadata": {
    "collapsed": true
   },
   "outputs": [],
   "source": [
    "def chi2_minimization():\n",
    "\n",
    "    bounds = [(10, 100), (0.1, 1)] \n",
    "    \n",
    "    def func_to_minimize(x):\n",
    "\n",
    "        H0, OmM = x #for LCDM\n",
    "\n",
    "        val = chi_2(H0, OmM)\n",
    "        ##print(\"Point:\", x, \"Function value:\", val)\n",
    "        return val\n",
    "\n",
    "    result = differential_evolution(func_to_minimize,\n",
    "                                    bounds=bounds\n",
    "                                    #, disp=True)\n",
    "                                    )\n",
    "                                    \n",
    "\n",
    "\n",
    "    chi2 = result.fun\n",
    "    \n",
    "    H0, OmM  = result.x #for LCDM\n",
    "   \n",
    "    print(result.x)\n",
    "  \n",
    "\n",
    "    full_result = np.array(\n",
    "        \n",
    "        [chi2, H0, OmM]\n",
    "    )\n",
    "\n",
    "\n",
    "    filetxt = 'bfv_result_LCDM.txt' #for LCDM\n",
    "    \n",
    "    np.savetxt(filetxt, full_result)\n",
    "\n"
   ]
  },
  {
   "cell_type": "code",
   "execution_count": null,
   "metadata": {},
   "outputs": [],
   "source": [
    "chi2_minimization()"
   ]
  },
  {
   "cell_type": "markdown",
   "metadata": {},
   "source": [
    "\n",
    "## Paso 5. Evaluar una función en una malla usando Multiprocessing\n",
    "\n",
    "Queremos evaluar la función $\\chi^2$ para diferentes valores de nuestros parámetros libres, $\\vec{\\theta}$. "
   ]
  },
  {
   "cell_type": "code",
   "execution_count": null,
   "metadata": {
    "collapsed": true
   },
   "outputs": [],
   "source": [
    "from multiprocessing import Pool\n",
    "from h5py import File"
   ]
  },
  {
   "cell_type": "code",
   "execution_count": null,
   "metadata": {
    "collapsed": true
   },
   "outputs": [],
   "source": [
    "def chi2_kernel(data):\n",
    "    H0, OmegaM = data\n",
    "\n",
    "    chi = chi_2(H0, OmegaM)\n",
    "\n",
    "    return chi"
   ]
  },
  {
   "cell_type": "code",
   "execution_count": null,
   "metadata": {
    "collapsed": true
   },
   "outputs": [],
   "source": [
    "def parallel_chi2(kernel, data_array, processes=None):\n",
    "    \"\"\"\n",
    "    Evaluates the chi2 function over the data saved in 'data_array'\n",
    "    and distributes the workload among several independent python\n",
    "    processes.\n",
    "    \"\"\"\n",
    "\n",
    "    # Let's create a pool of processes to execute calculate chi2 in\n",
    "    # parallel.\n",
    "\n",
    "    \n",
    "    with Pool(processes=processes) as pool:\n",
    "        # The data accepted by the map method must be an iterable, like\n",
    "        # a list, a tuple or a numpy array. The function is applied over\n",
    "        # each element of the iterable. The result is another list with\n",
    "        # the values returned by the function after being evaluated.\n",
    "        #\n",
    "        # [a, b, c, ...]  -> [f(a), f(b), f(c), ...]\n",
    "        #\n",
    "        # Here we use the imap method, so we need to create a list to\n",
    "        # gather the results.\n",
    "        results = []\n",
    "        pool_imap = pool.imap(kernel, data_array)\n",
    "        \n",
    "        for result in pool_imap:\n",
    "            results.append(result)\n",
    "            \n",
    "    return np.array(results)\n",
    "\n",
    "# Reference: arXiv:1306.0573"
   ]
  },
  {
   "cell_type": "code",
   "execution_count": null,
   "metadata": {
    "collapsed": true
   },
   "outputs": [],
   "source": [
    "def exec_chi2():\n",
    "    \n",
    "    points = 200 \n",
    "    m_params = 2\n",
    "    \n",
    "    H0_range = np.linspace(50, 100, points)\n",
    "    OmegaMatter_range = np.linspace(0.1, 0.6, points)\n",
    "\n",
    "    #this will create the coordinate axis for the array\n",
    "    H, OM = meshgrid(H0_range, OmegaMatter_range, indexing='ij')\n",
    "\n",
    "    #and we use them to create our grid\n",
    "    grid_data = stack((H,OM), axis=-1)\n",
    "\n",
    "    # Flatten array\n",
    "    \n",
    "    flattened_grid = grid_data.reshape(points * points, m_params)\n",
    "    \n",
    "    # Execute parallel routine\n",
    "    chi2_data = parallel_chi2(chi2_kernel, flattened_grid)\n",
    "\n",
    "    # Reshape chi2 results with a similar shape as the original\n",
    "    # data_grid, but with only one element.¡: the chi squared.\n",
    "    \n",
    "    chi2_data = chi2_data.reshape(points, points, 1)\n",
    "    \n",
    "    #################\n",
    "    # Save data to file\n",
    "    \n",
    "    filename = 'H0-OmegaM_grid.h5'\n",
    "    \n",
    "    with File(filename, 'w') as file:\n",
    "        # Add data\n",
    "        file['/DataGrid'] = grid_data\n",
    "        file['/Chi2'] = chi2_data\n",
    "        # Save data to file\n",
    "        file.flush()\n",
    "\n",
    "    print(chi2_data.shape)\n"
   ]
  },
  {
   "cell_type": "code",
   "execution_count": null,
   "metadata": {},
   "outputs": [],
   "source": [
    "exec_chi2()"
   ]
  },
  {
   "cell_type": "markdown",
   "metadata": {},
   "source": [
    "## Paso 6. Hacer la gráfica de contorno\n",
    "\n"
   ]
  },
  {
   "cell_type": "code",
   "execution_count": null,
   "metadata": {
    "collapsed": true
   },
   "outputs": [],
   "source": [
    "\n",
    "grid_file = 'H0-OmM_grid.h5'\n"
   ]
  },
  {
   "cell_type": "code",
   "execution_count": null,
   "metadata": {},
   "outputs": [],
   "source": [
    "with File(grid_file, 'r') as datafile:\n",
    "    data = datafile['/DataGrid'].value\n",
    "    chi2data = datafile['/Chi2'].value\n",
    "    \n",
    "    H = data[:,:,0]\n",
    "    Omega = data[:,:,1]\n",
    "    Chi2 = chi2data[:,:,0]\n",
    "    \n",
    "    plt.contourf(H, Omega, Chi2)\n",
    "    colorbar()\n",
    "    xlabel(r'$H_0$')\n",
    "    ylabel(r'$\\Omega_m$')\n",
    "    \n"
   ]
  },
  {
   "cell_type": "code",
   "execution_count": null,
   "metadata": {
    "collapsed": true
   },
   "outputs": [],
   "source": [
    "from IPython.display import Image"
   ]
  },
  {
   "cell_type": "markdown",
   "metadata": {},
   "source": [
    "### Estadística. Regiones de confianza\n",
    "\n",
    "Fuente: **Numerical Recipes in C**"
   ]
  },
  {
   "cell_type": "code",
   "execution_count": null,
   "metadata": {},
   "outputs": [],
   "source": [
    "figure = Image(filename='./../fig_2.png', width=600)\n",
    "figure"
   ]
  },
  {
   "cell_type": "code",
   "execution_count": null,
   "metadata": {
    "collapsed": true
   },
   "outputs": [],
   "source": [
    "bfv_file = 'bfv_result_LCDM.txt'\n",
    "\n",
    "chi2min, Hbest, Ombest = np.loadtxt(bfv_file)"
   ]
  },
  {
   "cell_type": "code",
   "execution_count": null,
   "metadata": {},
   "outputs": [],
   "source": [
    "d1s, d2s, d3s = 2.3, 6.17, 9.21 #(68.3%, 95.4%, 99%)\n",
    "\n",
    "levels = chi2min, chi2min+d1s, chi2min+d2s, chi2min+d3s\n",
    "\n",
    "\n",
    "                              \n",
    "with File(grid_file, 'r') as datafile:\n",
    "    data = datafile['/DataGrid'].value\n",
    "    chi2data = datafile['/Chi2'].value\n",
    "    H = data[:,:,0]\n",
    "    Omega = data[:,:,1]\n",
    "    Chi2 = chi2data[:,:,0]\n",
    "    \n",
    "    \n",
    "    rcParams['font.size'] = 15               \n",
    "    rcParams['lines.linewidth'] = 2          \n",
    "    rcParams['mathtext.fontset'] = 'cm'      \n",
    "    C = plt.contourf(H, Omega, Chi2, \n",
    "                 levels=levels,\n",
    "                 #cmap=plt.cm.jet,\n",
    "                 colors=('mediumblue', 'cornflowerblue', 'skyblue'),\n",
    "                 alpha=0.7,\n",
    "                 \n",
    "                )\n",
    "    plt.colorbar()\n",
    "    \n",
    "    ylabel(r'$\\Omega_m$')\n",
    "    xlabel(r'$H_0[km/sMpc]$')\n",
    "    xlim(55, 80)         \n",
    "\n",
    "\n",
    "savefig('contour_plot_sigmas.pdf', bbox_inches='tight') \n",
    "\n",
    "\n",
    "\n",
    "\n",
    "\n",
    "    \n",
    "    "
   ]
  },
  {
   "cell_type": "code",
   "execution_count": null,
   "metadata": {
    "collapsed": true
   },
   "outputs": [],
   "source": []
  }
 ],
 "metadata": {
  "kernelspec": {
   "display_name": "Python 3 (CinvesPy)",
   "language": "python",
   "name": "cinvespyenv"
  },
  "language_info": {
   "codemirror_mode": {
    "name": "ipython",
    "version": 3
   },
   "file_extension": ".py",
   "mimetype": "text/x-python",
   "name": "python",
   "nbconvert_exporter": "python",
   "pygments_lexer": "ipython3",
   "version": "3.5.4"
  }
 },
 "nbformat": 4,
 "nbformat_minor": 2
}
